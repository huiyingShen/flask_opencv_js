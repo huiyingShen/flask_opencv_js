{
 "cells": [
  {
   "cell_type": "code",
   "execution_count": 1,
   "metadata": {},
   "outputs": [],
   "source": [
    "import numpy as np"
   ]
  },
  {
   "cell_type": "code",
   "execution_count": 2,
   "metadata": {},
   "outputs": [],
   "source": [
    "def compute_homography(src_points, dst_points):\n",
    "    # Check that there are at least 4 corresponding points\n",
    "    assert src_points.shape[0] == dst_points.shape[0] and src_points.shape[0] >= 4\n",
    "    \n",
    "    A = []\n",
    "    for i in range(src_points.shape[0]):\n",
    "        x, y = src_points[i]\n",
    "        u, v = dst_points[i]\n",
    "        A.extend([\n",
    "            [-x, -y, -1, 0, 0, 0, u*x, u*y, u],\n",
    "            [0, 0, 0, -x, -y, -1, v*x, v*y, v]\n",
    "        ])\n",
    "    A = np.array(A)\n",
    "    \n",
    "    _, _, V = np.linalg.svd(A)\n",
    "    H = V[-1].reshape(3, 3)\n",
    "    return H"
   ]
  },
  {
   "cell_type": "code",
   "execution_count": 3,
   "metadata": {},
   "outputs": [],
   "source": [
    "def warp_func(H,coords):\n",
    "    x, y = coords\n",
    "    xy_homogeneous = np.array([x, y, 1])\n",
    "    uvw = np.dot(H, xy_homogeneous)\n",
    "    return [uvw[0] / uvw[2], uvw[1] / uvw[2]]"
   ]
  },
  {
   "cell_type": "code",
   "execution_count": 4,
   "metadata": {},
   "outputs": [
    {
     "name": "stdout",
     "output_type": "stream",
     "text": [
      "[[ 6.20995244e-02 -1.55248811e-02  7.76244055e-01]\n",
      " [ 6.34794574e-16  6.20995244e-02  6.20995244e-01]\n",
      " [-2.31330642e-16  1.29491841e-16  6.20995244e-02]]\n"
     ]
    }
   ],
   "source": [
    "src_points = np.array([[10, 10], [10, 50], [50, 50], [50, 10]])\n",
    "dst_points = np.array([[20, 20], [10, 60], [50, 60], [60, 20]])\n",
    "H = compute_homography(src_points, dst_points)\n",
    "print(H)"
   ]
  },
  {
   "cell_type": "code",
   "execution_count": 5,
   "metadata": {},
   "outputs": [
    {
     "name": "stdout",
     "output_type": "stream",
     "text": [
      "[19.999999999999975, 19.999999999999687]\n",
      "[9.999999999997053, 59.99999999999173]\n",
      "[49.999999999998956, 60.00000000000108]\n",
      "[60.00000000000669, 20.000000000003073]\n"
     ]
    }
   ],
   "source": [
    "for x,y in src_points:\n",
    "    print(warp_func(H,(x,y)))"
   ]
  }
 ],
 "metadata": {
  "kernelspec": {
   "display_name": "base",
   "language": "python",
   "name": "python3"
  },
  "language_info": {
   "codemirror_mode": {
    "name": "ipython",
    "version": 3
   },
   "file_extension": ".py",
   "mimetype": "text/x-python",
   "name": "python",
   "nbconvert_exporter": "python",
   "pygments_lexer": "ipython3",
   "version": "3.10.9"
  },
  "orig_nbformat": 4
 },
 "nbformat": 4,
 "nbformat_minor": 2
}
